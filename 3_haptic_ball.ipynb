{
 "cells": [
  {
   "cell_type": "markdown",
   "id": "9b0535a4",
   "metadata": {},
   "source": [
    "# Lab 3: a haptic ball\n",
    "\n",
    "This final lab is very short and quite fun. We are going to generate haptic feedback on the robot.\n",
    "\n",
    "We will model this a follows:\n",
    "\n",
    "Select a position (x,y) on the board where a hypothetic deformable ball should be centered.\n",
    "Select a radius r for the ball, and write a code that does the following:\n",
    "\n",
    "Whevener the end effector comes inside the circle, generate a repulsive force such that:\n",
    "- the direction of the force is given by the segment from (x,y) to the current position of the effector\n",
    "- The magnitude of the force is linearly decreasing from 0 at the border of the circle to 1 N at the center\n",
    "\n",
    "You can achieve this simpl\n"
   ]
  }
 ],
 "metadata": {
  "kernelspec": {
   "display_name": "Python 3 (ipykernel)",
   "language": "python",
   "name": "python3"
  },
  "language_info": {
   "codemirror_mode": {
    "name": "ipython",
    "version": 3
   },
   "file_extension": ".py",
   "mimetype": "text/x-python",
   "name": "python",
   "nbconvert_exporter": "python",
   "pygments_lexer": "ipython3",
   "version": "3.8.10"
  }
 },
 "nbformat": 4,
 "nbformat_minor": 5
}
