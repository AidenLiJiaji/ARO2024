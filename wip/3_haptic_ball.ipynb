{
 "cells": [
  {
   "cell_type": "markdown",
   "id": "7521a713",
   "metadata": {},
   "source": [
    "# Lab 3: a haptic ball\n",
    "\n",
    "This final lab is very short and quite fun. We are going to generate haptic feedback on the robot.\n",
    "\n",
    "We will model this a follows:\n",
    "\n",
    "Select a position (x,y) on the board where a hypothetic deformable ball should be centered.\n",
    "Select a radius r for the ball, and write a code that does the following:\n",
    "\n",
    "Whevener the end effector comes inside the circle, generate a repulsive force such that:\n",
    "- the direction of the force is given by the segment from (x,y) to the current position of the effector\n",
    "- The magnitude of the force is linearly decreasing from 0 at the border of the circle to 1 N at the center\n",
    "\n",
    "You can achieve this simply using the contact jacobian term that you used in the software lab to input a force.\n",
    "\n",
    "Once this is working you can try different kinds of interpolation to simulate different materials.\n"
   ]
  },
  {
   "cell_type": "code",
   "execution_count": null,
   "id": "1cf8c415",
   "metadata": {},
   "outputs": [],
   "source": [
    "                      #        x,y\n",
    "#System size          #        /\\\n",
    "l1 = 0.06             #       /  \\\n",
    "l2 = 0.165            # l2-> /    \\<-r2\n",
    "r1 = 0.060            # l1 ->\\_dd_/<-r1\n",
    "r2 = 0.163            #  |   q1  q2\n",
    "d  = 0.150 / 2        # Y|\n",
    "                      #  |____>\n",
    "                      #    X"
   ]
  },
  {
   "cell_type": "code",
   "execution_count": null,
   "id": "bad5dd89",
   "metadata": {},
   "outputs": [],
   "source": [
    "# set zero positions on each motor\n",
    "from motor_control.AROMotorControl import AROMotorControl\n",
    "mc = AROMotorControl()\n",
    "mc.setZero(1)\n",
    "mc.setZero(2)"
   ]
  },
  {
   "cell_type": "markdown",
   "id": "7831d7c0",
   "metadata": {},
   "source": [
    "For completing this lab, you will require two specific methods:\n",
    "\n",
    "1. **Forward Geometry** from Lab 2.\n",
    "2. **Contact Jacobian** from the software labs.\n",
    "\n",
    "If you encounter difficulties in implementing these methods on your own, we have provided them in the `utils` file. You can easily import these methods using the following Python code:\n",
    "\n",
    "```python\n",
    "from utils import *\n",
    "```"
   ]
  },
  {
   "cell_type": "code",
   "execution_count": null,
   "id": "c2731c03",
   "metadata": {},
   "outputs": [],
   "source": [
    "def fg(q1, q2):\n",
    "    # TODO: implement this or use your implementation from lab 2\n",
    "    pass\n",
    "\n",
    "def J(q1, q2):\n",
    "    # TODO: Implement this\n",
    "    pass"
   ]
  },
  {
   "cell_type": "markdown",
   "id": "f6eba4dc",
   "metadata": {},
   "source": [
    "#### Test your implementation"
   ]
  },
  {
   "cell_type": "code",
   "execution_count": null,
   "id": "8955c770",
   "metadata": {},
   "outputs": [],
   "source": [
    "from utils import *\n",
    "import numpy as np\n",
    "import time\n",
    "dt = 0.001\n",
    "N=300000 #30 seconds\n",
    "t = time.perf_counter()\n",
    "i=0\n",
    "p0 = np.array([0,0.15]) # Adjust this accordingly\n",
    "R = 0.02 # Adjust this accordingly\n",
    "for i in range(N):\n",
    "    # read positions and convert them into radians\n",
    "    q1 = mc.readPosition(1) * np.pi / 180\n",
    "    q2 = mc.readPosition(2) * np.pi / 180\n",
    "    p = fg(q1, q2)\n",
    "    d = np.linalg.norm(p-p0)\n",
    "    f = np.array([0.,0.])\n",
    "    if (d<R):\n",
    "        f = (p-p0)/d\n",
    "    tau = J(q1, q2).T @ f\n",
    "    current_1 = tau[0] * 300\n",
    "    current_2 = tau[1] * 300\n",
    "    mc.applyCurrentToMotor(1, current_1)\n",
    "    mc.applyCurrentToMotor(2, current_2)\n",
    "    #wait for next control cycle\n",
    "    t +=dt\n",
    "    while(time.perf_counter()-t<dt):\n",
    "        pass\n",
    "        time.sleep(0.0001)\n",
    "    if (i%100==0):\n",
    "        #print(f\"q={q}\")\n",
    "        #print(f\"p=fk_delta(q)={p}\")\n",
    "        print(f\"f={f}, tau={tau}\")"
   ]
  }
 ],
 "metadata": {
  "kernelspec": {
   "display_name": "Python 3 (ipykernel)",
   "language": "python",
   "name": "python3"
  },
  "language_info": {
   "codemirror_mode": {
    "name": "ipython",
    "version": 3
   },
   "file_extension": ".py",
   "mimetype": "text/x-python",
   "name": "python",
   "nbconvert_exporter": "python",
   "pygments_lexer": "ipython3",
   "version": "3.10.12"
  }
 },
 "nbformat": 4,
 "nbformat_minor": 5
}
