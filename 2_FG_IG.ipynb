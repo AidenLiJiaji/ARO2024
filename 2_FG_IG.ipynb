{
 "cells": [
  {
   "cell_type": "markdown",
   "id": "982dcbf3",
   "metadata": {},
   "source": [
    "# Lab 2: forward and inverse geometry: writing with a pen\n",
    "\n",
    "In this second lab, we are going to accomplish two different tasks: first, you are going to write a sentence by manually controlling the robot end effector and, if your implementation of forward geometry is correct, you will be able to repreduce what you wrote on your computer. \n",
    "\n",
    "Then, you will use inverse kinematics to command the robot to draw a circle \n",
    "\n",
    "**warning** : you will need the PD controller written in the previous lab to continue with this one. If you are using notebooks, you should extract the code either manually or using \"Save as...\" to create a python file you will be able to import\n",
    "\n",
    "## Setting the 0\n",
    "First of all, we will need to properly initialise the robot. As demonstrated by the TAs, use the the lock to set the robot to a default position and call the ```setZero``` method from the API, that assigns the 0 angle avalue to the current position of the motors.\n",
    "\n",
    "## Forward Geometry\n",
    "The robot is a delta arm with the following characteristics:\n",
    "\n",
    "### TODO are these the good numbers?"
   ]
  },
  {
   "cell_type": "code",
   "execution_count": 3,
   "id": "43de2ece",
   "metadata": {},
   "outputs": [],
   "source": [
    "import numpy as np\n",
    "                      #        x,y\n",
    "#System size          #        /\\\n",
    "l1 = 0.06             #       /  \\\n",
    "l2 = 0.165            # l2-> /    \\<-r2\n",
    "r1 = 0.082            # l1 ->\\_dd_/<-r1\n",
    "r2 = 0.140            #  |   q1  q2\n",
    "d  = 0.150 / 2        # Y|\n",
    "                      #  |____>\n",
    "                      #    X"
   ]
  },
  {
   "cell_type": "markdown",
   "id": "fbba304e",
   "metadata": {},
   "source": [
    "2 joints are controlled by the motors, 2 other joints are unactuated. However, solving analytically the forward geometry is doable with a bit of trigonometry. Finding the position of the passive joints is straightforward, annd from these two positions you can find the position of the effector."
   ]
  },
  {
   "cell_type": "code",
   "execution_count": 11,
   "id": "6ab8df0f",
   "metadata": {},
   "outputs": [],
   "source": [
    "def fg(q1,q2):\n",
    "    '''Computes forward geometry'''\n",
    "    return np.zeros(2)"
   ]
  },
  {
   "cell_type": "markdown",
   "id": "4e6dd5f4",
   "metadata": {},
   "source": [
    "To test you forward geometry, write a 10 sec long sequence that will read the encoders, apply forward geometry to store the positions of the effectors and then plot them.\n",
    "\n",
    "### TODO reduce width of points when plotting ?\n",
    "\n",
    "### TODO run_try_catch ok ?\n"
   ]
  },
  {
   "cell_type": "code",
   "execution_count": 17,
   "id": "21699748",
   "metadata": {},
   "outputs": [
    {
     "ename": "OSError",
     "evalue": "[Errno 19] No such device",
     "output_type": "error",
     "traceback": [
      "\u001b[0;31m---------------------------------------------------------------------------\u001b[0m",
      "\u001b[0;31mOSError\u001b[0m                                   Traceback (most recent call last)",
      "Cell \u001b[0;32mIn[17], line 1\u001b[0m\n\u001b[0;32m----> 1\u001b[0m \u001b[38;5;28;01mfrom\u001b[39;00m \u001b[38;5;21;01mtemplate\u001b[39;00m \u001b[38;5;28;01mimport\u001b[39;00m run_try_catch\n\u001b[1;32m      2\u001b[0m \u001b[38;5;28;01mimport\u001b[39;00m \u001b[38;5;21;01mmatplotlib\u001b[39;00m\u001b[38;5;21;01m.\u001b[39;00m\u001b[38;5;21;01mpyplot\u001b[39;00m \u001b[38;5;28;01mas\u001b[39;00m \u001b[38;5;21;01mplt\u001b[39;00m\n\u001b[1;32m      3\u001b[0m \u001b[38;5;28;01mimport\u001b[39;00m \u001b[38;5;21;01mtime\u001b[39;00m\n",
      "File \u001b[0;32m/media/stonneau/data/dev/linux/aro23/hardwarelab/template.py:3\u001b[0m\n\u001b[1;32m      1\u001b[0m \u001b[38;5;28;01mfrom\u001b[39;00m \u001b[38;5;21;01mmotor_control\u001b[39;00m\u001b[38;5;21;01m.\u001b[39;00m\u001b[38;5;21;01mAROMotorControl\u001b[39;00m \u001b[38;5;28;01mimport\u001b[39;00m AROMotorControl\n\u001b[0;32m----> 3\u001b[0m motor_control \u001b[38;5;241m=\u001b[39m \u001b[43mAROMotorControl\u001b[49m\u001b[43m(\u001b[49m\u001b[43m)\u001b[49m\n\u001b[1;32m      5\u001b[0m \u001b[38;5;28;01mdef\u001b[39;00m \u001b[38;5;21mrun_try_catch\u001b[39m(func, \u001b[38;5;241m*\u001b[39margs, \u001b[38;5;241m*\u001b[39m\u001b[38;5;241m*\u001b[39mkwargs):\n\u001b[1;32m      6\u001b[0m \u001b[38;5;250m    \u001b[39m\u001b[38;5;124;03m'''helper function to encaspsulate try / catch template'''\u001b[39;00m\n",
      "File \u001b[0;32m/media/stonneau/data/dev/linux/aro23/hardwarelab/motor_control/AROMotorControl.py:61\u001b[0m, in \u001b[0;36mAROMotorControl.__init__\u001b[0;34m(self)\u001b[0m\n\u001b[1;32m     56\u001b[0m \u001b[38;5;28;01mdef\u001b[39;00m \u001b[38;5;21m__init__\u001b[39m(\u001b[38;5;28mself\u001b[39m):\n\u001b[1;32m     57\u001b[0m     \u001b[38;5;66;03m# os.system('sudo ifconfig can0 down')\u001b[39;00m\n\u001b[1;32m     58\u001b[0m     \u001b[38;5;66;03m# os.system('sudo ip link set can0 type can bitrate 1000000')\u001b[39;00m\n\u001b[1;32m     59\u001b[0m     \u001b[38;5;66;03m# os.system(\"sudo ifconfig can0 txqueuelen 100000\")\u001b[39;00m\n\u001b[1;32m     60\u001b[0m     \u001b[38;5;66;03m# os.system('sudo ifconfig can0 up')\u001b[39;00m\n\u001b[0;32m---> 61\u001b[0m     \u001b[38;5;28mself\u001b[39m\u001b[38;5;241m.\u001b[39mpcan \u001b[38;5;241m=\u001b[39m \u001b[43mPCANBus\u001b[49m\u001b[43m(\u001b[49m\u001b[43m)\u001b[49m\n\u001b[1;32m     62\u001b[0m     \u001b[38;5;28mself\u001b[39m\u001b[38;5;241m.\u001b[39mcurrent_command_last_msg \u001b[38;5;241m=\u001b[39m (\u001b[38;5;241m0\u001b[39m, \u001b[38;5;241m0\u001b[39m, \u001b[38;5;241m0\u001b[39m, \u001b[38;5;241m0\u001b[39m)\n",
      "File \u001b[0;32m/media/stonneau/data/dev/linux/aro23/hardwarelab/motor_control/AROMotorControl.py:19\u001b[0m, in \u001b[0;36mPCANBus.__init__\u001b[0;34m(self)\u001b[0m\n\u001b[1;32m     16\u001b[0m \u001b[38;5;28;01mdef\u001b[39;00m \u001b[38;5;21m__init__\u001b[39m(\u001b[38;5;28mself\u001b[39m):\n\u001b[1;32m     17\u001b[0m     logging\u001b[38;5;241m.\u001b[39minfo(\u001b[38;5;124m\"\u001b[39m\u001b[38;5;124mInitializing CANbus\u001b[39m\u001b[38;5;124m\"\u001b[39m)\n\u001b[0;32m---> 19\u001b[0m     \u001b[38;5;28mself\u001b[39m\u001b[38;5;241m.\u001b[39mbus \u001b[38;5;241m=\u001b[39m \u001b[43mcan\u001b[49m\u001b[38;5;241;43m.\u001b[39;49m\u001b[43mBus\u001b[49m\u001b[43m(\u001b[49m\u001b[43mchannel\u001b[49m\u001b[38;5;241;43m=\u001b[39;49m\u001b[38;5;124;43m\"\u001b[39;49m\u001b[38;5;124;43mcan0\u001b[39;49m\u001b[38;5;124;43m\"\u001b[39;49m\u001b[43m,\u001b[49m\u001b[43m \u001b[49m\u001b[43mbustype\u001b[49m\u001b[38;5;241;43m=\u001b[39;49m\u001b[38;5;124;43m\"\u001b[39;49m\u001b[38;5;124;43msocketcan\u001b[39;49m\u001b[38;5;124;43m\"\u001b[39;49m\u001b[43m,\u001b[49m\u001b[43m \u001b[49m\u001b[43mbaudrate\u001b[49m\u001b[38;5;241;43m=\u001b[39;49m\u001b[38;5;241;43m1000000\u001b[39;49m\u001b[43m)\u001b[49m\n\u001b[1;32m     20\u001b[0m     \u001b[38;5;28mself\u001b[39m\u001b[38;5;241m.\u001b[39mbuffer \u001b[38;5;241m=\u001b[39m can\u001b[38;5;241m.\u001b[39mBufferedReader()\n\u001b[1;32m     21\u001b[0m     \u001b[38;5;28mself\u001b[39m\u001b[38;5;241m.\u001b[39mnotifier \u001b[38;5;241m=\u001b[39m can\u001b[38;5;241m.\u001b[39mNotifier(\u001b[38;5;28mself\u001b[39m\u001b[38;5;241m.\u001b[39mbus, [\u001b[38;5;28mself\u001b[39m\u001b[38;5;241m.\u001b[39m_get_message, \u001b[38;5;28mself\u001b[39m\u001b[38;5;241m.\u001b[39mbuffer])\n",
      "File \u001b[0;32m/usr/lib/python3/dist-packages/can/interface.py:127\u001b[0m, in \u001b[0;36mBus.__new__\u001b[0;34m(cls, channel, *args, **kwargs)\u001b[0m\n\u001b[1;32m    125\u001b[0m     \u001b[38;5;28;01mreturn\u001b[39;00m \u001b[38;5;28mcls\u001b[39m(\u001b[38;5;241m*\u001b[39margs, \u001b[38;5;241m*\u001b[39m\u001b[38;5;241m*\u001b[39mkwargs)\n\u001b[1;32m    126\u001b[0m \u001b[38;5;28;01melse\u001b[39;00m:\n\u001b[0;32m--> 127\u001b[0m     \u001b[38;5;28;01mreturn\u001b[39;00m \u001b[38;5;28;43mcls\u001b[39;49m\u001b[43m(\u001b[49m\u001b[43mchannel\u001b[49m\u001b[43m,\u001b[49m\u001b[43m \u001b[49m\u001b[38;5;241;43m*\u001b[39;49m\u001b[43margs\u001b[49m\u001b[43m,\u001b[49m\u001b[43m \u001b[49m\u001b[38;5;241;43m*\u001b[39;49m\u001b[38;5;241;43m*\u001b[39;49m\u001b[43mkwargs\u001b[49m\u001b[43m)\u001b[49m\n",
      "File \u001b[0;32m/usr/lib/python3/dist-packages/can/interfaces/socketcan/socketcan.py:562\u001b[0m, in \u001b[0;36mSocketcanBus.__init__\u001b[0;34m(self, channel, receive_own_messages, fd, **kwargs)\u001b[0m\n\u001b[1;32m    557\u001b[0m \u001b[38;5;66;03m# Enable error frames\u001b[39;00m\n\u001b[1;32m    558\u001b[0m \u001b[38;5;28mself\u001b[39m\u001b[38;5;241m.\u001b[39msocket\u001b[38;5;241m.\u001b[39msetsockopt(SOL_CAN_RAW,\n\u001b[1;32m    559\u001b[0m                        CAN_RAW_ERR_FILTER,\n\u001b[1;32m    560\u001b[0m                        \u001b[38;5;241m0x1FFFFFFF\u001b[39m)\n\u001b[0;32m--> 562\u001b[0m \u001b[43mbind_socket\u001b[49m\u001b[43m(\u001b[49m\u001b[38;5;28;43mself\u001b[39;49m\u001b[38;5;241;43m.\u001b[39;49m\u001b[43msocket\u001b[49m\u001b[43m,\u001b[49m\u001b[43m \u001b[49m\u001b[43mchannel\u001b[49m\u001b[43m)\u001b[49m\n\u001b[1;32m    563\u001b[0m kwargs\u001b[38;5;241m.\u001b[39mupdate({\u001b[38;5;124m'\u001b[39m\u001b[38;5;124mreceive_own_messages\u001b[39m\u001b[38;5;124m'\u001b[39m: receive_own_messages, \u001b[38;5;124m'\u001b[39m\u001b[38;5;124mfd\u001b[39m\u001b[38;5;124m'\u001b[39m: fd})\n\u001b[1;32m    564\u001b[0m \u001b[38;5;28msuper\u001b[39m(SocketcanBus, \u001b[38;5;28mself\u001b[39m)\u001b[38;5;241m.\u001b[39m\u001b[38;5;21m__init__\u001b[39m(channel\u001b[38;5;241m=\u001b[39mchannel, \u001b[38;5;241m*\u001b[39m\u001b[38;5;241m*\u001b[39mkwargs)\n",
      "File \u001b[0;32m/usr/lib/python3/dist-packages/can/interfaces/socketcan/socketcan.py:427\u001b[0m, in \u001b[0;36mbind_socket\u001b[0;34m(sock, channel)\u001b[0m\n\u001b[1;32m    425\u001b[0m log\u001b[38;5;241m.\u001b[39mdebug(\u001b[38;5;124m'\u001b[39m\u001b[38;5;124mBinding socket to channel=\u001b[39m\u001b[38;5;132;01m%s\u001b[39;00m\u001b[38;5;124m'\u001b[39m, channel)\n\u001b[1;32m    426\u001b[0m \u001b[38;5;28;01mif\u001b[39;00m HAS_NATIVE_SUPPORT:\n\u001b[0;32m--> 427\u001b[0m     \u001b[43msock\u001b[49m\u001b[38;5;241;43m.\u001b[39;49m\u001b[43mbind\u001b[49m\u001b[43m(\u001b[49m\u001b[43m(\u001b[49m\u001b[43mchannel\u001b[49m\u001b[43m,\u001b[49m\u001b[43m)\u001b[49m\u001b[43m)\u001b[49m\n\u001b[1;32m    428\u001b[0m \u001b[38;5;28;01melse\u001b[39;00m:\n\u001b[1;32m    429\u001b[0m     \u001b[38;5;66;03m# For Python 2.7\u001b[39;00m\n\u001b[1;32m    430\u001b[0m     addr \u001b[38;5;241m=\u001b[39m get_addr(sock, channel)\n",
      "\u001b[0;31mOSError\u001b[0m: [Errno 19] No such device"
     ]
    }
   ],
   "source": [
    "from template import run_try_catch\n",
    "import matplotlib.pyplot as plt\n",
    "import time\n",
    "\n",
    "def read_fg_loop(T=10e3):\n",
    "    xs, ys = [], []\n",
    "    t = time.perf_counter()\n",
    "    N=int(T)\n",
    "    dt = 1. / 1e3\n",
    "    wait = 1. / 1e4\n",
    "    for i in range(N):\n",
    "        t +=dt\n",
    "        #TODO:\n",
    "        q1,q2 = 0., 0.\n",
    "        xy = fg(q1, q2) \n",
    "        xs.append(xy[0])\n",
    "        ys.append(xy[1])\n",
    "        while(time.perf_counter()-t<dt):\n",
    "            pass\n",
    "            time.sleep(wait)\n",
    "        \n",
    "    plt.scatter(xs, ys) \n",
    "    \n",
    "    \n",
    "\n",
    "\n"
   ]
  },
  {
   "cell_type": "code",
   "execution_count": 18,
   "id": "be4161ec",
   "metadata": {},
   "outputs": [
    {
     "ename": "NameError",
     "evalue": "name 'run_try_catch' is not defined",
     "output_type": "error",
     "traceback": [
      "\u001b[0;31m---------------------------------------------------------------------------\u001b[0m",
      "\u001b[0;31mNameError\u001b[0m                                 Traceback (most recent call last)",
      "Cell \u001b[0;32mIn[18], line 1\u001b[0m\n\u001b[0;32m----> 1\u001b[0m \u001b[43mrun_try_catch\u001b[49m(read_fg_loop)\n",
      "\u001b[0;31mNameError\u001b[0m: name 'run_try_catch' is not defined"
     ]
    }
   ],
   "source": [
    "run_try_catch(read_fg_loop)"
   ]
  },
  {
   "cell_type": "markdown",
   "id": "75bbebd2",
   "metadata": {},
   "source": [
    "## Inverse geometry\n",
    "\n",
    "Now write the IG function that will compute the inverse geometry of the robot. Use it to command the robot to draw a circle on the board\n"
   ]
  },
  {
   "cell_type": "code",
   "execution_count": 16,
   "id": "6ffe3565",
   "metadata": {},
   "outputs": [],
   "source": [
    "def ig(xy):\n",
    "    '''Computes forward geometry'''\n",
    "    return np.zeros(2)"
   ]
  },
  {
   "cell_type": "code",
   "execution_count": null,
   "id": "70f9ab1b",
   "metadata": {},
   "outputs": [],
   "source": []
  }
 ],
 "metadata": {
  "kernelspec": {
   "display_name": "Python 3 (ipykernel)",
   "language": "python",
   "name": "python3"
  },
  "language_info": {
   "codemirror_mode": {
    "name": "ipython",
    "version": 3
   },
   "file_extension": ".py",
   "mimetype": "text/x-python",
   "name": "python",
   "nbconvert_exporter": "python",
   "pygments_lexer": "ipython3",
   "version": "3.8.10"
  }
 },
 "nbformat": 4,
 "nbformat_minor": 5
}
