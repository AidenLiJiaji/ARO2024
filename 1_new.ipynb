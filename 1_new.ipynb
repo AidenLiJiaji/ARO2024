{
 "cells": [
  {
   "cell_type": "markdown",
   "id": "6b2b8531",
   "metadata": {},
   "source": [
    "# Hardware lab 1 (and 2): implementing your control law / Steer by wire\n",
    "\n",
    "In this first hardware lab we are first going to work without the passive arms of our robot and only focus on the motors. The objective of the lab is to informally play with the motor API and understand the possible issues that can  arise when trying to control accurately a motor.\n",
    "\n",
    "Concretely, we will play with the notion of PD control (discussed in next week's lecture) and use this to reproduce a [steer-by-wire](https://en.wikipedia.org/wiki/Steer-by-wire) system. \n",
    "\n",
    "\n",
    "\n",
    "## Preliminaries\n",
    "First, listen to Garry or Katy for the first few minutes of the lab while they provide some guidance on the platform.\n",
    "\n",
    "## Communicating with the device\n",
    "The DICE machines are connected to the platform using a CAN device. This is hidden within a high-level API but you can have a look at the code if you are interested in seeing how all of this works.\n",
    "\n",
    "To work, open a python console, or edit a file and execute the code that follows. The CAN bus protocol does not work very with Jupyter notebooks unfortunately and keyboard interruptions won't work.\n",
    "\n",
    "\n",
    "\n",
    "The API is presented in [AROMotorControlAPI.md](https://github.com/ediadvancedrobotics/hardwarelab/blob/main/README.md). The only methods that we need are `readPosition` and `applyTorqueToMotor`.\n",
    "\n",
    "Each method has a `motorid` parameter, taking the value 1 or 2, which points to the motor that you wish to control.\n",
    "\n",
    "\n",
    "Therefore, to read the position (joint angle value) or a motor, simply call:\n",
    "\n"
   ]
  },
  {
   "cell_type": "code",
   "execution_count": 2,
   "id": "02ff71bb",
   "metadata": {},
   "outputs": [
    {
     "data": {
      "text/plain": [
       "343.29999999998836"
      ]
     },
     "execution_count": 2,
     "metadata": {},
     "output_type": "execute_result"
    }
   ],
   "source": [
    "from motor_control.AROMotorControl import AROMotorControl\n",
    "\n",
    "mc = AROMotorControl()\n",
    "mc.readPosition(motorid=1)"
   ]
  },
  {
   "cell_type": "markdown",
   "id": "a9c2d1e2",
   "metadata": {},
   "source": [
    "The returned value is an angle value in degrees, between 0 and 360.\n",
    "\n",
    "\n",
    "## A torque controlled motor\n",
    "The motor is controlled by sending a current command to it, which results in its rotation. The rotational force produced is called a torque (more on this during the lectures).\n",
    "\n",
    "\n",
    "### Torque vs current\n",
    "This paragraph is just for general knowledge. The torque generated is proportional to the current through the relationship $\\tau = k I $, with $\\tau$ the torque, $I$ the current (in Amperes), and k a constant given by the manufacturer. In our case, the torque constant provided by the [manufacturer](https://www.myactuator.com/product-page/rmd-l-5010) is $0.16$, which trivially gives you $I = \\frac{\\tau}{0.16}$. We will trust the manufacturer although this might change from a motor to the other (and is yet another source of approximation).\n",
    "\n",
    "\n",
    "### Sending a command\n",
    "To send current command you are required to use an exception handling mechanismthat always safely terminates by resetting the control command. Unfortunately this can't be encapsulated in a function as this results in packages loss.\n",
    "\n",
    "The `run_until` method defined there also allows you to call N times the same method while ensuring an accurate delay `dt` expires before being called again.\n",
    "\n",
    "Let us use `run_until` to send a constant torque of 0.02 Nm for 1 seconds\n",
    "\n"
   ]
  },
  {
   "cell_type": "code",
   "execution_count": 8,
   "id": "bee16a57",
   "metadata": {},
   "outputs": [
    {
     "name": "stdout",
     "output_type": "stream",
     "text": [
      "200\n",
      "times [0.005132215999765322, 0.005254667001281632, 0.005101456001284532, 0.005230685997958062, 0.005331718999514123, 0.0051231109973741695, 0.005064000997663243, 0.005082030998892151, 0.005132778998813592, 0.005240506998234196, 0.005100999998830957, 0.005232744999375427, 0.00502993299960508, 0.0052977049999753945, 0.005208686001424212, 0.00538992699875962, 0.00514837100126897, 0.005053072000009706, 0.005056658999819774, 0.005355255998438224, 0.005200589002924971, 0.0053603129999828525, 0.005056680998677621, 0.0051627639986691065, 0.0053548629985016305, 0.005360229999496369, 0.005393584000557894, 0.005294200000207638, 0.005264771003567148, 0.0053521189984166995, 0.00525346799986437, 0.005302113000652753, 0.005396950997237582, 0.005080340000858996, 0.005231564999121474, 0.005323353998392122, 0.005236888002400519, 0.005043616001785267, 0.005251013000815874, 0.005069251001259545, 0.005256338001345284, 0.005087669000204187, 0.005015493999962928, 0.005003648002457339, 0.005364360000385204, 0.005295027000101982, 0.0050638149987207726, 0.005361840001569362, 0.005174306999833789, 0.005167718001757748, 0.0052569420004147105, 0.005265762996714329, 0.005095826003525872, 0.005189172999962466, 0.005166336999536725, 0.005264481998892734, 0.005073070999060292, 0.005145760002051247, 0.0051431970023259055, 0.005138511001860024, 0.005334720997780096, 0.005060887000581715, 0.005072910000308184, 0.005127070999151329, 0.005383439998695394, 0.00518347799879848, 0.005319257001247024, 0.005309076001140056, 0.005139434000739129, 0.005198642997129355, 0.0051730939994740766, 0.00527938600134803, 0.005040875999839045, 0.005011248998926021, 0.005398262997914571, 0.005178880001039943, 0.00534649399924092, 0.0053835329999856185, 0.005110167996463133, 0.005284580998704769, 0.0052056579988857266, 0.005295306000334676, 0.005320793999999296, 0.005004562000976875, 0.005265181000140728, 0.005317512001056457, 0.005220978000579635, 0.0052757750017917715, 0.005142903002706589, 0.005361428000469459, 0.005047066999395611, 0.005158058000233723, 0.005219317001319723, 0.005337726001016563, 0.005189594001421938, 0.005057299000327475, 0.005147708998265443, 0.005013833000703016, 0.005014766000385862, 0.005139376000443008, 0.005204647000937257, 0.005214123997575371, 0.0052368100004969165, 0.0053353399998741224, 0.005237651002971688, 0.005021203000069363, 0.005164873997273389, 0.005327325998223387, 0.005270837002171902, 0.005319833999237744, 0.005332655997335678, 0.00513841299834894, 0.005185188001632923, 0.005244805000984343, 0.005207418002100894, 0.005308376003085868, 0.005221573999733664, 0.005401302001700969, 0.005218715999944834, 0.0051387059975240845, 0.005065577999630477, 0.005065801000455394, 0.005265897001663689, 0.005151491001015529, 0.005371196999476524, 0.005315988000802463, 0.005218873000558233, 0.0053027399990241975, 0.005043602999649011, 0.005014839000068605, 0.005131160000019008, 0.005272256999887759, 0.0050137899997935165, 0.005319208998116665, 0.005106836000777548, 0.005050866002420662, 0.005251353999483399, 0.00502803900235449, 0.005368852998799412, 0.0051487300006556325, 0.005120045996591216, 0.0053309110007830895, 0.005136087002028944, 0.00521372299772338, 0.005306954997649882, 0.005131145000632387, 0.00539339099850622, 0.005080688002635725, 0.005130870998982573, 0.005356646001018817, 0.00501952199920197, 0.005029171999922255, 0.0050558820003061555, 0.005026383001677459, 0.0050908880002680235, 0.005008460997487418, 0.005342120999557665, 0.005102733000967419, 0.005319407999195391, 0.005184525001823204, 0.005331094998837216, 0.005057197999121854, 0.005021384000428952, 0.005145048002304975, 0.005066899997473229, 0.005377112000132911, 0.005134201997861965, 0.00501995599915972, 0.005187206999835325, 0.005183449997275602, 0.0050581739997141995, 0.005003589001717046, 0.005145523999090074, 0.005370502000005217, 0.005036447000748012, 0.005219377999310382, 0.005403217001003213, 0.005187834001844749, 0.005316784998285584, 0.005100335001770873, 0.0051787740012514405, 0.005370827999286121, 0.005024043002777034, 0.005188742998143425, 0.005281977999402443, 0.005098765999719035, 0.005161093999049626, 0.0051937249991169665, 0.005364556996937608, 0.005061405001470121, 0.00523977899865713, 0.005137079999258276, 0.0051079280019621365, 0.00536697699862998, 0.005396077001933008, 0.005107535998831736, 0.005374339998525102, 0.005373355001211166, 0.005196278001676546, 0.005289531000016723]\n",
      "total 1.0396493509979337\n",
      "motors stopped!\n"
     ]
    }
   ],
   "source": [
    "from template import run_until\n",
    "\n",
    "dt = 0.005\n",
    "N = int(1. / dt)\n",
    "\n",
    "print(N)\n",
    "\n",
    "try:\n",
    "    run_until(mc.applyTorqueToMotor, N=N, dt=0.005, motorid=1, torque=0.02)\n",
    "except KeyboardInterrupt:\n",
    "    print(\"KeyboardInterrupt received, stopping motors...\")\n",
    "except Exception as e:\n",
    "    print(f\"an error occurred: {e}\")\n",
    "finally:\n",
    "    mc.applyCurrentToMotor(1, 0)\n",
    "    mc.applyCurrentToMotor(2, 0)\n",
    "    print(\"motors stopped!\")"
   ]
  },
  {
   "cell_type": "markdown",
   "id": "6367908c",
   "metadata": {},
   "source": [
    "\n",
    "\n",
    "## Question 1\n",
    "Write a function that performs one iteration of a control loop: Given a desired position and a motor, read the current state and perform one step of PD control to bring the motor to the desired state. \n",
    "<mark>Important:</mark> Please make sure that you execute this or any other function in a try-catch block (as shown in [template.py](./template.py)) so that if for any reason you have to terminate your program, the motors stop. Otherwise the motors will continue to execute the last command applied to them.\n",
    "\n",
    "\n",
    "## Question 2\n",
    "\n",
    "Test this function within a loop and plot the obtained trajectory. Tune your P and D gains accordingly until you reach a desired behaviour. We are going to control the system at a frequency of 1 khz, which means that each tick should last 1 ms. As for the rununtil function in the lab, the control loop should have a structure like this one:"
   ]
  },
  {
   "cell_type": "code",
   "execution_count": 3,
   "id": "a984fef2",
   "metadata": {},
   "outputs": [],
   "source": [
    "import time\n",
    "t = time.perf_counter()\n",
    "N=int(10e3) #10 seconds\n",
    "dt = 1. / 1e3\n",
    "wait = 1. / 1e4\n",
    "for i in range(N):\n",
    "    t +=dt\n",
    "    #run your code\n",
    "    while(time.perf_counter()-t<dt):\n",
    "        pass\n",
    "        time.sleep(wait)"
   ]
  },
  {
   "cell_type": "markdown",
   "id": "4f2af215",
   "metadata": {},
   "source": [
    "You should of course tune your gains accordingly for the rest of the labs, but this is also the occasion to voluntarily play with the values and observe what happens when you obtain oscillatory behaviours for instance. This will become interesting in particular for the next question.\n",
    "\n",
    "## Question 3\n",
    "Now, write a 30s control loop that does the following:\n",
    "+ Motor 1 is configured to track the position of motor 2\n",
    "+ Motor 2 is configured to track the position of motor 1\n",
    "\n",
    "Manually mess around with the motors while the loop is running, you should feel a haptic feedback. A similar system is implemented in some of the recent cars where the steering wheel and the wheels are no longer mechanically connected."
   ]
  }
 ],
 "metadata": {
  "kernelspec": {
   "display_name": "Python 3 (ipykernel)",
   "language": "python",
   "name": "python3"
  },
  "language_info": {
   "codemirror_mode": {
    "name": "ipython",
    "version": 3
   },
   "file_extension": ".py",
   "mimetype": "text/x-python",
   "name": "python",
   "nbconvert_exporter": "python",
   "pygments_lexer": "ipython3",
   "version": "3.10.12"
  }
 },
 "nbformat": 4,
 "nbformat_minor": 5
}
